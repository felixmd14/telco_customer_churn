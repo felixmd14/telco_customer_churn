{
 "cells": [
  {
   "cell_type": "code",
   "execution_count": 1,
   "id": "cb12ae62",
   "metadata": {},
   "outputs": [
    {
     "name": "stdout",
     "output_type": "stream",
     "text": [
      "Requirement already satisfied: psycopg2-binary in c:\\users\\user\\anaconda3\\lib\\site-packages (2.9.6)\n",
      "Requirement already satisfied: snowflake-connector-python in c:\\users\\user\\anaconda3\\lib\\site-packages (3.0.3)\n",
      "Requirement already satisfied: pytz in c:\\users\\user\\anaconda3\\lib\\site-packages (from snowflake-connector-python) (2022.1)\n",
      "Requirement already satisfied: cryptography<41.0.0,>=3.1.0 in c:\\users\\user\\anaconda3\\lib\\site-packages (from snowflake-connector-python) (37.0.1)\n",
      "Requirement already satisfied: cffi<2.0.0,>=1.9 in c:\\users\\user\\anaconda3\\lib\\site-packages (from snowflake-connector-python) (1.15.1)\n",
      "Requirement already satisfied: filelock<4,>=3.5 in c:\\users\\user\\anaconda3\\lib\\site-packages (from snowflake-connector-python) (3.6.0)\n",
      "Requirement already satisfied: urllib3<1.27,>=1.21.1 in c:\\users\\user\\anaconda3\\lib\\site-packages (from snowflake-connector-python) (1.26.11)\n",
      "Requirement already satisfied: requests<3.0.0 in c:\\users\\user\\anaconda3\\lib\\site-packages (from snowflake-connector-python) (2.28.1)\n",
      "Requirement already satisfied: certifi>=2017.4.17 in c:\\users\\user\\anaconda3\\lib\\site-packages (from snowflake-connector-python) (2022.9.14)\n",
      "Requirement already satisfied: asn1crypto<2.0.0,>0.24.0 in c:\\users\\user\\anaconda3\\lib\\site-packages (from snowflake-connector-python) (1.5.1)\n",
      "Requirement already satisfied: pyOpenSSL<24.0.0,>=16.2.0 in c:\\users\\user\\anaconda3\\lib\\site-packages (from snowflake-connector-python) (22.0.0)\n",
      "Requirement already satisfied: packaging in c:\\users\\user\\anaconda3\\lib\\site-packages (from snowflake-connector-python) (21.3)\n",
      "Requirement already satisfied: oscrypto<2.0.0 in c:\\users\\user\\anaconda3\\lib\\site-packages (from snowflake-connector-python) (1.3.0)\n",
      "Requirement already satisfied: charset-normalizer<3,>=2 in c:\\users\\user\\anaconda3\\lib\\site-packages (from snowflake-connector-python) (2.0.4)\n",
      "Requirement already satisfied: typing-extensions<5,>=4.3 in c:\\users\\user\\anaconda3\\lib\\site-packages (from snowflake-connector-python) (4.3.0)\n",
      "Requirement already satisfied: idna<4,>=2.5 in c:\\users\\user\\anaconda3\\lib\\site-packages (from snowflake-connector-python) (3.3)\n",
      "Requirement already satisfied: pycryptodomex!=3.5.0,<4.0.0,>=3.2 in c:\\users\\user\\anaconda3\\lib\\site-packages (from snowflake-connector-python) (3.18.0)\n",
      "Requirement already satisfied: pyjwt<3.0.0 in c:\\users\\user\\anaconda3\\lib\\site-packages (from snowflake-connector-python) (2.4.0)\n",
      "Requirement already satisfied: pycparser in c:\\users\\user\\anaconda3\\lib\\site-packages (from cffi<2.0.0,>=1.9->snowflake-connector-python) (2.21)\n",
      "Requirement already satisfied: pyparsing!=3.0.5,>=2.0.2 in c:\\users\\user\\anaconda3\\lib\\site-packages (from packaging->snowflake-connector-python) (3.0.9)\n",
      "Requirement already satisfied: mysql-connector-python in c:\\users\\user\\anaconda3\\lib\\site-packages (8.0.33)\n",
      "Requirement already satisfied: protobuf<=3.20.3,>=3.11.0 in c:\\users\\user\\anaconda3\\lib\\site-packages (from mysql-connector-python) (3.20.3)\n"
     ]
    }
   ],
   "source": [
    "#import pandas as pd\n",
    "\n",
    "! pip install psycopg2-binary\n",
    "\n",
    "! pip install snowflake-connector-python\n",
    "\n",
    "! pip install mysql-connector-python"
   ]
  },
  {
   "cell_type": "code",
   "execution_count": 2,
   "id": "fb056483",
   "metadata": {},
   "outputs": [],
   "source": [
    "import os\n"
   ]
  },
  {
   "cell_type": "code",
   "execution_count": 6,
   "id": "d7c34dc1",
   "metadata": {},
   "outputs": [],
   "source": [
    "import psycopg2 as ps\n",
    "\n",
    "import pandas as pd\n",
    "\n",
    "import pyodbc\n",
    "\n",
    "import requests\n",
    "\n",
    "import mysql.connector"
   ]
  },
  {
   "cell_type": "code",
   "execution_count": 7,
   "id": "eb6c1d54",
   "metadata": {},
   "outputs": [
    {
     "ename": "NameError",
     "evalue": "name 'connector' is not defined",
     "output_type": "error",
     "traceback": [
      "\u001b[1;31m---------------------------------------------------------------------------\u001b[0m",
      "\u001b[1;31mNameError\u001b[0m                                 Traceback (most recent call last)",
      "\u001b[1;32m~\\AppData\\Local\\Temp\\ipykernel_13896\\2576450492.py\u001b[0m in \u001b[0;36m<module>\u001b[1;34m\u001b[0m\n\u001b[1;32m----> 1\u001b[1;33m db = connector.connect(driver=\"Microsoft SQL Server\",\n\u001b[0m\u001b[0;32m      2\u001b[0m                        \u001b[0mhost\u001b[0m\u001b[1;33m=\u001b[0m\u001b[1;34m\"dap-projects-database.database.windows.net\"\u001b[0m\u001b[1;33m,\u001b[0m \u001b[0mdatabase\u001b[0m\u001b[1;33m=\u001b[0m\u001b[1;34m\"dapDB\"\u001b[0m\u001b[1;33m,\u001b[0m\u001b[1;33m\u001b[0m\u001b[1;33m\u001b[0m\u001b[0m\n\u001b[0;32m      3\u001b[0m                        uid=\"dataAnalyst_LP2\", pwd=\" A3g@3kR$2y\")\n",
      "\u001b[1;31mNameError\u001b[0m: name 'connector' is not defined"
     ]
    }
   ],
   "source": [
    "db = connector.connect(driver=\"Microsoft SQL Server\",\n",
    "                       host=\"dap-projects-database.database.windows.net\", database=\"dapDB\",\n",
    "                       uid=\"dataAnalyst_LP2\", pwd=\" A3g@3kR$2y\")"
   ]
  },
  {
   "cell_type": "code",
   "execution_count": 4,
   "id": "10e4249a",
   "metadata": {},
   "outputs": [
    {
     "ename": "IndentationError",
     "evalue": "unexpected indent (2149417897.py, line 2)",
     "output_type": "error",
     "traceback": [
      "\u001b[1;36m  File \u001b[1;32m\"C:\\Users\\User\\AppData\\Local\\Temp\\ipykernel_13896\\2149417897.py\"\u001b[1;36m, line \u001b[1;32m2\u001b[0m\n\u001b[1;33m    'Server = dap-projects-database.database.windows.net',\u001b[0m\n\u001b[1;37m    ^\u001b[0m\n\u001b[1;31mIndentationError\u001b[0m\u001b[1;31m:\u001b[0m unexpected indent\n"
     ]
    }
   ],
   "source": [
    "#connection = pyodbc.connect('Driver = {Microsoft SQL Server}',               \n",
    "                            'Server = dap-projects-database.database.windows.net',\n",
    "                            'Database = dapDB',\n",
    "                            'username = dataAnalyst_LP2',\n",
    "                            'password = A3g@3kR$2y')\n",
    "\n",
    "#df = pd.read_sql_query(\"select * from <dbo.LP2_Telco_churn_first_3000>\",con=conn)\n",
    "\n",
    "#df"
   ]
  },
  {
   "cell_type": "code",
   "execution_count": null,
   "id": "189a6864",
   "metadata": {},
   "outputs": [],
   "source": [
    "#df = pd.read_sql_query(\"select * from <dbo.LP2_Telco_churn_first_3000>\",con=connection)"
   ]
  },
  {
   "cell_type": "code",
   "execution_count": null,
   "id": "2da4c725",
   "metadata": {},
   "outputs": [],
   "source": []
  }
 ],
 "metadata": {
  "kernelspec": {
   "display_name": "Python 3 (ipykernel)",
   "language": "python",
   "name": "python3"
  },
  "language_info": {
   "codemirror_mode": {
    "name": "ipython",
    "version": 3
   },
   "file_extension": ".py",
   "mimetype": "text/x-python",
   "name": "python",
   "nbconvert_exporter": "python",
   "pygments_lexer": "ipython3",
   "version": "3.9.13"
  }
 },
 "nbformat": 4,
 "nbformat_minor": 5
}
